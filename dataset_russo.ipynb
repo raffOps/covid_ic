{
 "cells": [
  {
   "cell_type": "code",
   "execution_count": 17,
   "metadata": {
    "collapsed": true
   },
   "outputs": [],
   "source": [
    "import pandas as pd\n",
    "import numpy as np\n",
    "import scipy as scipy\n",
    "\n",
    "import matplotlib as mpl\n",
    "import matplotlib.pyplot as plt\n",
    "import seaborn as sns\n",
    "rc = {'lines.linewidth': 2,\n",
    "      'axes.labelsize': 18,\n",
    "      'axes.titlesize': 18,\n",
    "      'axes.facecolor': 'DFDFE5'}\n",
    "sns.set_context('notebook', rc=rc)\n",
    "sns.set_style(\"darkgrid\")"
   ]
  },
  {
   "cell_type": "code",
   "execution_count": 2,
   "outputs": [
    {
     "data": {
      "text/plain": "       gender  age  age_higher_than_60  rt_pcr_result  crp_admission  \\\nid                                                                     \nICU01       1   37                   0              1          133.0   \nICU02       0   48                   0              1          155.0   \nICU03       0   40                   0              1          191.0   \n\n       inr_admission  pt_admission  fibrinogen_admission  chest_ct_admission  \\\nid                                                                             \nICU01            NaN           NaN                   NaN                40.0   \nICU02            NaN           NaN                   NaN                72.0   \nICU03           1.26          13.7                   5.1                50.0   \n\n       platalet_count_admission  chest_ct_1_week  crp_1_week  \\\nid                                                             \nICU01                       141             80.0       131.0   \nICU02                       238              NaN       135.0   \nICU03                       160             92.0         NaN   \n\n       platalet_count_1_week  icu  \nid                                 \nICU01                  376.0    1  \nICU02                    NaN    1  \nICU03                    NaN    1  ",
      "text/html": "<div>\n<style scoped>\n    .dataframe tbody tr th:only-of-type {\n        vertical-align: middle;\n    }\n\n    .dataframe tbody tr th {\n        vertical-align: top;\n    }\n\n    .dataframe thead th {\n        text-align: right;\n    }\n</style>\n<table border=\"1\" class=\"dataframe\">\n  <thead>\n    <tr style=\"text-align: right;\">\n      <th></th>\n      <th>gender</th>\n      <th>age</th>\n      <th>age_higher_than_60</th>\n      <th>rt_pcr_result</th>\n      <th>crp_admission</th>\n      <th>inr_admission</th>\n      <th>pt_admission</th>\n      <th>fibrinogen_admission</th>\n      <th>chest_ct_admission</th>\n      <th>platalet_count_admission</th>\n      <th>chest_ct_1_week</th>\n      <th>crp_1_week</th>\n      <th>platalet_count_1_week</th>\n      <th>icu</th>\n    </tr>\n    <tr>\n      <th>id</th>\n      <th></th>\n      <th></th>\n      <th></th>\n      <th></th>\n      <th></th>\n      <th></th>\n      <th></th>\n      <th></th>\n      <th></th>\n      <th></th>\n      <th></th>\n      <th></th>\n      <th></th>\n      <th></th>\n    </tr>\n  </thead>\n  <tbody>\n    <tr>\n      <th>ICU01</th>\n      <td>1</td>\n      <td>37</td>\n      <td>0</td>\n      <td>1</td>\n      <td>133.0</td>\n      <td>NaN</td>\n      <td>NaN</td>\n      <td>NaN</td>\n      <td>40.0</td>\n      <td>141</td>\n      <td>80.0</td>\n      <td>131.0</td>\n      <td>376.0</td>\n      <td>1</td>\n    </tr>\n    <tr>\n      <th>ICU02</th>\n      <td>0</td>\n      <td>48</td>\n      <td>0</td>\n      <td>1</td>\n      <td>155.0</td>\n      <td>NaN</td>\n      <td>NaN</td>\n      <td>NaN</td>\n      <td>72.0</td>\n      <td>238</td>\n      <td>NaN</td>\n      <td>135.0</td>\n      <td>NaN</td>\n      <td>1</td>\n    </tr>\n    <tr>\n      <th>ICU03</th>\n      <td>0</td>\n      <td>40</td>\n      <td>0</td>\n      <td>1</td>\n      <td>191.0</td>\n      <td>1.26</td>\n      <td>13.7</td>\n      <td>5.1</td>\n      <td>50.0</td>\n      <td>160</td>\n      <td>92.0</td>\n      <td>NaN</td>\n      <td>NaN</td>\n      <td>1</td>\n    </tr>\n  </tbody>\n</table>\n</div>"
     },
     "execution_count": 2,
     "metadata": {},
     "output_type": "execute_result"
    }
   ],
   "source": [
    "names_cols = ['id',\n",
    " 'gender',\n",
    " 'age',\n",
    " 'age_higher_than_60',\n",
    " 'rt_pcr_result',\n",
    " 'crp_admission',\n",
    " 'inr_admission',\n",
    " 'pt_admission',\n",
    " 'fibrinogen_admission',\n",
    " 'chest_ct_admission',\n",
    " 'platalet_count_admission',\n",
    " 'chest_ct_1_week',\n",
    " 'crp_1_week',\n",
    " 'platalet_count_1_week']\n",
    "\n",
    "index_cols = list(range(5)) + list(range(8,17))\n",
    "\n",
    "icu = pd.read_csv(\"dataset/Baranovskiietal.2020DatasetofCOVID-19Patients.xlsx - ICU-transferred patients.csv\",\n",
    "                     usecols=index_cols, names=names_cols, index_col=0, header=0, decimal=\",\")\n",
    "icu[\"icu\"] = 1\n",
    "\n",
    "icu.head(3)"
   ],
   "metadata": {
    "collapsed": false,
    "pycharm": {
     "name": "#%%\n"
    }
   }
  },
  {
   "cell_type": "code",
   "execution_count": 3,
   "outputs": [
    {
     "data": {
      "text/plain": "       id  gender  age  age_higher_than_60  rt_pcr_result  crp_admission  \\\nSTP01   1      70    1                   1            7.0          112.0   \nSTP02   1      46    0                   1           10.0           72.0   \nSTP03   1      94    1                   1            3.0           84.0   \nSTP04   1      74    1                   1           11.0           69.0   \nSTP05   1      53    0                   1            8.0          135.0   \n\n       inr_admission  pt_admission  fibrinogen_admission  chest_ct_admission  \\\nSTP01           1.10          12.0                  5.46                 161   \nSTP02           1.39          15.1                  5.00                 306   \nSTP03           1.08          11.8                  2.98                 199   \nSTP04            NaN           NaN                   NaN                  97   \nSTP05           1.43          15.5                  6.87                 302   \n\n       platalet_count_admission  chest_ct_1_week  crp_1_week  \\\nSTP01                      40.0              7.0        28.0   \nSTP02                      35.0             12.0        28.0   \nSTP03                      75.0             20.0        25.0   \nSTP04                      40.0             90.0        44.0   \nSTP05                      40.0            135.0         NaN   \n\n       platalet_count_1_week  icu  \nSTP01                  407.0    0  \nSTP02                  431.0    0  \nSTP03                  251.0    0  \nSTP04                  316.0    0  \nSTP05                  308.0    0  ",
      "text/html": "<div>\n<style scoped>\n    .dataframe tbody tr th:only-of-type {\n        vertical-align: middle;\n    }\n\n    .dataframe tbody tr th {\n        vertical-align: top;\n    }\n\n    .dataframe thead th {\n        text-align: right;\n    }\n</style>\n<table border=\"1\" class=\"dataframe\">\n  <thead>\n    <tr style=\"text-align: right;\">\n      <th></th>\n      <th>id</th>\n      <th>gender</th>\n      <th>age</th>\n      <th>age_higher_than_60</th>\n      <th>rt_pcr_result</th>\n      <th>crp_admission</th>\n      <th>inr_admission</th>\n      <th>pt_admission</th>\n      <th>fibrinogen_admission</th>\n      <th>chest_ct_admission</th>\n      <th>platalet_count_admission</th>\n      <th>chest_ct_1_week</th>\n      <th>crp_1_week</th>\n      <th>platalet_count_1_week</th>\n      <th>icu</th>\n    </tr>\n  </thead>\n  <tbody>\n    <tr>\n      <th>STP01</th>\n      <td>1</td>\n      <td>70</td>\n      <td>1</td>\n      <td>1</td>\n      <td>7.0</td>\n      <td>112.0</td>\n      <td>1.10</td>\n      <td>12.0</td>\n      <td>5.46</td>\n      <td>161</td>\n      <td>40.0</td>\n      <td>7.0</td>\n      <td>28.0</td>\n      <td>407.0</td>\n      <td>0</td>\n    </tr>\n    <tr>\n      <th>STP02</th>\n      <td>1</td>\n      <td>46</td>\n      <td>0</td>\n      <td>1</td>\n      <td>10.0</td>\n      <td>72.0</td>\n      <td>1.39</td>\n      <td>15.1</td>\n      <td>5.00</td>\n      <td>306</td>\n      <td>35.0</td>\n      <td>12.0</td>\n      <td>28.0</td>\n      <td>431.0</td>\n      <td>0</td>\n    </tr>\n    <tr>\n      <th>STP03</th>\n      <td>1</td>\n      <td>94</td>\n      <td>1</td>\n      <td>1</td>\n      <td>3.0</td>\n      <td>84.0</td>\n      <td>1.08</td>\n      <td>11.8</td>\n      <td>2.98</td>\n      <td>199</td>\n      <td>75.0</td>\n      <td>20.0</td>\n      <td>25.0</td>\n      <td>251.0</td>\n      <td>0</td>\n    </tr>\n    <tr>\n      <th>STP04</th>\n      <td>1</td>\n      <td>74</td>\n      <td>1</td>\n      <td>1</td>\n      <td>11.0</td>\n      <td>69.0</td>\n      <td>NaN</td>\n      <td>NaN</td>\n      <td>NaN</td>\n      <td>97</td>\n      <td>40.0</td>\n      <td>90.0</td>\n      <td>44.0</td>\n      <td>316.0</td>\n      <td>0</td>\n    </tr>\n    <tr>\n      <th>STP05</th>\n      <td>1</td>\n      <td>53</td>\n      <td>0</td>\n      <td>1</td>\n      <td>8.0</td>\n      <td>135.0</td>\n      <td>1.43</td>\n      <td>15.5</td>\n      <td>6.87</td>\n      <td>302</td>\n      <td>40.0</td>\n      <td>135.0</td>\n      <td>NaN</td>\n      <td>308.0</td>\n      <td>0</td>\n    </tr>\n  </tbody>\n</table>\n</div>"
     },
     "execution_count": 3,
     "metadata": {},
     "output_type": "execute_result"
    }
   ],
   "source": [
    "stable = pd.read_csv(\"dataset/Baranovskiietal.2020DatasetofCOVID-19Patients.xlsx - Stable patients.csv\",\n",
    "                     names=names_cols, index_col=0, header=0, decimal=\",\")\n",
    "stable[\"icu\"] = 0\n",
    "stable.head()"
   ],
   "metadata": {
    "collapsed": false,
    "pycharm": {
     "name": "#%%\n"
    }
   }
  },
  {
   "cell_type": "code",
   "execution_count": 4,
   "outputs": [
    {
     "data": {
      "text/plain": "       gender  age  age_higher_than_60  rt_pcr_result  crp_admission  \\\nICU01       1   37                   0            1.0          133.0   \nICU02       0   48                   0            1.0          155.0   \nICU03       0   40                   0            1.0          191.0   \nICU04       1   75                   1            1.0          182.0   \nICU05       1   59                   0            1.0          166.0   \n\n       inr_admission  pt_admission  fibrinogen_admission  chest_ct_admission  \\\nICU01            NaN           NaN                   NaN                40.0   \nICU02            NaN           NaN                   NaN                72.0   \nICU03           1.26          13.7                   5.1                50.0   \nICU04           1.32          14.3                   5.2                30.0   \nICU05            NaN           NaN                   5.3                55.0   \n\n       platalet_count_admission  chest_ct_1_week  crp_1_week  \\\nICU01                     141.0             80.0       131.0   \nICU02                     238.0              NaN       135.0   \nICU03                     160.0             92.0         NaN   \nICU04                     356.0             72.0       207.0   \nICU05                     267.0             92.0       280.0   \n\n       platalet_count_1_week  icu  id  \nICU01                  376.0    1 NaN  \nICU02                    NaN    1 NaN  \nICU03                    NaN    1 NaN  \nICU04                  142.0    1 NaN  \nICU05                   30.0    1 NaN  ",
      "text/html": "<div>\n<style scoped>\n    .dataframe tbody tr th:only-of-type {\n        vertical-align: middle;\n    }\n\n    .dataframe tbody tr th {\n        vertical-align: top;\n    }\n\n    .dataframe thead th {\n        text-align: right;\n    }\n</style>\n<table border=\"1\" class=\"dataframe\">\n  <thead>\n    <tr style=\"text-align: right;\">\n      <th></th>\n      <th>gender</th>\n      <th>age</th>\n      <th>age_higher_than_60</th>\n      <th>rt_pcr_result</th>\n      <th>crp_admission</th>\n      <th>inr_admission</th>\n      <th>pt_admission</th>\n      <th>fibrinogen_admission</th>\n      <th>chest_ct_admission</th>\n      <th>platalet_count_admission</th>\n      <th>chest_ct_1_week</th>\n      <th>crp_1_week</th>\n      <th>platalet_count_1_week</th>\n      <th>icu</th>\n      <th>id</th>\n    </tr>\n  </thead>\n  <tbody>\n    <tr>\n      <th>ICU01</th>\n      <td>1</td>\n      <td>37</td>\n      <td>0</td>\n      <td>1.0</td>\n      <td>133.0</td>\n      <td>NaN</td>\n      <td>NaN</td>\n      <td>NaN</td>\n      <td>40.0</td>\n      <td>141.0</td>\n      <td>80.0</td>\n      <td>131.0</td>\n      <td>376.0</td>\n      <td>1</td>\n      <td>NaN</td>\n    </tr>\n    <tr>\n      <th>ICU02</th>\n      <td>0</td>\n      <td>48</td>\n      <td>0</td>\n      <td>1.0</td>\n      <td>155.0</td>\n      <td>NaN</td>\n      <td>NaN</td>\n      <td>NaN</td>\n      <td>72.0</td>\n      <td>238.0</td>\n      <td>NaN</td>\n      <td>135.0</td>\n      <td>NaN</td>\n      <td>1</td>\n      <td>NaN</td>\n    </tr>\n    <tr>\n      <th>ICU03</th>\n      <td>0</td>\n      <td>40</td>\n      <td>0</td>\n      <td>1.0</td>\n      <td>191.0</td>\n      <td>1.26</td>\n      <td>13.7</td>\n      <td>5.1</td>\n      <td>50.0</td>\n      <td>160.0</td>\n      <td>92.0</td>\n      <td>NaN</td>\n      <td>NaN</td>\n      <td>1</td>\n      <td>NaN</td>\n    </tr>\n    <tr>\n      <th>ICU04</th>\n      <td>1</td>\n      <td>75</td>\n      <td>1</td>\n      <td>1.0</td>\n      <td>182.0</td>\n      <td>1.32</td>\n      <td>14.3</td>\n      <td>5.2</td>\n      <td>30.0</td>\n      <td>356.0</td>\n      <td>72.0</td>\n      <td>207.0</td>\n      <td>142.0</td>\n      <td>1</td>\n      <td>NaN</td>\n    </tr>\n    <tr>\n      <th>ICU05</th>\n      <td>1</td>\n      <td>59</td>\n      <td>0</td>\n      <td>1.0</td>\n      <td>166.0</td>\n      <td>NaN</td>\n      <td>NaN</td>\n      <td>5.3</td>\n      <td>55.0</td>\n      <td>267.0</td>\n      <td>92.0</td>\n      <td>280.0</td>\n      <td>30.0</td>\n      <td>1</td>\n      <td>NaN</td>\n    </tr>\n  </tbody>\n</table>\n</div>"
     },
     "execution_count": 4,
     "metadata": {},
     "output_type": "execute_result"
    }
   ],
   "source": [
    "df = pd.concat([icu, stable], axis=0)\n",
    "df.head()"
   ],
   "metadata": {
    "collapsed": false,
    "pycharm": {
     "name": "#%%\n"
    }
   }
  },
  {
   "cell_type": "code",
   "execution_count": 5,
   "outputs": [
    {
     "name": "stdout",
     "output_type": "stream",
     "text": [
      "<class 'pandas.core.frame.DataFrame'>\n",
      "Index: 231 entries, ICU01 to STP131\n",
      "Data columns (total 15 columns):\n",
      " #   Column                    Non-Null Count  Dtype  \n",
      "---  ------                    --------------  -----  \n",
      " 0   gender                    231 non-null    int64  \n",
      " 1   age                       231 non-null    int64  \n",
      " 2   age_higher_than_60        231 non-null    int64  \n",
      " 3   rt_pcr_result             228 non-null    float64\n",
      " 4   crp_admission             225 non-null    float64\n",
      " 5   inr_admission             208 non-null    float64\n",
      " 6   pt_admission              208 non-null    float64\n",
      " 7   fibrinogen_admission      181 non-null    float64\n",
      " 8   chest_ct_admission        219 non-null    float64\n",
      " 9   platalet_count_admission  210 non-null    float64\n",
      " 10  chest_ct_1_week           180 non-null    float64\n",
      " 11  crp_1_week                178 non-null    float64\n",
      " 12  platalet_count_1_week     175 non-null    float64\n",
      " 13  icu                       231 non-null    int64  \n",
      " 14  id                        131 non-null    float64\n",
      "dtypes: float64(11), int64(4)\n",
      "memory usage: 28.9+ KB\n"
     ]
    }
   ],
   "source": [
    "df.info()"
   ],
   "metadata": {
    "collapsed": false,
    "pycharm": {
     "name": "#%%\n"
    }
   }
  },
  {
   "cell_type": "code",
   "execution_count": 6,
   "outputs": [
    {
     "data": {
      "text/plain": "Index(['gender', 'age', 'age_higher_than_60', 'rt_pcr_result', 'crp_admission',\n       'inr_admission', 'pt_admission', 'fibrinogen_admission',\n       'chest_ct_admission', 'platalet_count_admission', 'chest_ct_1_week',\n       'crp_1_week', 'platalet_count_1_week', 'icu', 'id'],\n      dtype='object')"
     },
     "execution_count": 6,
     "metadata": {},
     "output_type": "execute_result"
    }
   ],
   "source": [
    "df.columns"
   ],
   "metadata": {
    "collapsed": false,
    "pycharm": {
     "name": "#%%\n"
    }
   }
  },
  {
   "cell_type": "code",
   "execution_count": 50,
   "outputs": [],
   "source": [
    "def non_parametric_bootstrap(df, column, nsim=1000, central_measure=np.mean):\n",
    "    statistic = []\n",
    "    for i in range(nsim):\n",
    "        statistic.append(central_measure(df.sample(20)[column]))\n",
    "    return np.array(statistic)"
   ],
   "metadata": {
    "collapsed": false,
    "pycharm": {
     "name": "#%%\n"
    }
   }
  },
  {
   "cell_type": "code",
   "execution_count": 63,
   "outputs": [
    {
     "name": "stderr",
     "output_type": "stream",
     "text": [
      "/home/rafa/miniconda3/envs/covid_ic/lib/python3.8/site-packages/seaborn/_decorators.py:36: FutureWarning: Pass the following variable as a keyword arg: x. From version 0.12, the only valid positional argument will be `data`, and passing other arguments without an explicit keyword will result in an error or misinterpretation.\n",
      "  warnings.warn(\n",
      "/home/rafa/miniconda3/envs/covid_ic/lib/python3.8/site-packages/seaborn/_decorators.py:36: FutureWarning: Pass the following variable as a keyword arg: x. From version 0.12, the only valid positional argument will be `data`, and passing other arguments without an explicit keyword will result in an error or misinterpretation.\n",
      "  warnings.warn(\n"
     ]
    },
    {
     "data": {
      "text/plain": "<Figure size 720x360 with 1 Axes>",
      "image/png": "[encoded data removed]"
     },
     "metadata": {},
     "output_type": "display_data"
    }
   ],
   "source": [
    "mean_crp_stable = non_parametric_bootstrap(stable, \"crp_admission\")\n",
    "mean_crp_icu = non_parametric_bootstrap(icu, \"crp_admission\")\n",
    "\n",
    "plt.figure(figsize=(10, 5))\n",
    "sns.boxplot(mean_crp_icu, color=\"r\")\n",
    "sns.boxplot(mean_crp_stable, color=\"b\")\n",
    "plt.legend(labels=[\"ICU\", \"Stable\"])\n",
    "ax = plt.gca()\n",
    "leg = ax.get_legend()\n",
    "leg.legendHandles[0].set_color('r')\n",
    "leg.legendHandles[1].set_color('b')"
   ],
   "metadata": {
    "collapsed": false,
    "pycharm": {
     "name": "#%%\n"
    }
   }
  },
  {
   "cell_type": "code",
   "execution_count": 57,
   "outputs": [
    {
     "name": "stderr",
     "output_type": "stream",
     "text": [
      "/home/rafa/miniconda3/envs/covid_ic/lib/python3.8/site-packages/seaborn/distributions.py:2557: FutureWarning: `distplot` is a deprecated function and will be removed in a future version. Please adapt your code to use either `displot` (a figure-level function with similar flexibility) or `histplot` (an axes-level function for histograms).\n",
      "  warnings.warn(msg, FutureWarning)\n",
      "/home/rafa/miniconda3/envs/covid_ic/lib/python3.8/site-packages/seaborn/distributions.py:2557: FutureWarning: `distplot` is a deprecated function and will be removed in a future version. Please adapt your code to use either `displot` (a figure-level function with similar flexibility) or `histplot` (an axes-level function for histograms).\n",
      "  warnings.warn(msg, FutureWarning)\n"
     ]
    },
    {
     "data": {
      "text/plain": "<matplotlib.legend.Legend at 0x7f19608f98b0>"
     },
     "execution_count": 57,
     "metadata": {},
     "output_type": "execute_result"
    },
    {
     "data": {
      "text/plain": "<Figure size 432x288 with 1 Axes>",
      "image/png": "[encoded data removed]"
     },
     "metadata": {},
     "output_type": "display_data"
    }
   ],
   "source": [
    "sns.distplot(mean_crp_icu, label='ICU')\n",
    "sns.distplot(mean_crp_stable, label='Stable')\n",
    "# plt.gca().axvline(logp.mean(), ls='--', color='k', label='mean pval')\n",
    "# plt.gca().axvline(-np.log(0.05)/np.log(10), ls='--', color='r', label='statistical significance')\n",
    "# plt.xlabel('$-\\log_{10}{p}$')\n",
    "plt.ylabel('Probability Density')\n",
    "plt.title('Bootstrapped Mean Values')\n",
    "plt.legend()"
   ],
   "metadata": {
    "collapsed": false,
    "pycharm": {
     "name": "#%%\n"
    }
   }
  },
  {
   "cell_type": "code",
   "execution_count": 67,
   "outputs": [
    {
     "data": {
      "text/plain": "'Mean = 123; CI = [97.3, 149]'"
     },
     "execution_count": 67,
     "metadata": {},
     "output_type": "execute_result"
    }
   ],
   "source": [
    "message = \"Mean = {0:.3g}; CI = [{1:.3g}, {2:.3g}]\"\n",
    "icu_percentis = np.percentile(mean_crp_icu, [2.5, 97.5])\n",
    "icu_mean = np.median(mean_crp_icu)\n",
    "message.format(icu_mean, *icu_percentis)"
   ],
   "metadata": {
    "collapsed": false,
    "pycharm": {
     "name": "#%%\n"
    }
   }
  },
  {
   "cell_type": "code",
   "execution_count": 62,
   "outputs": [
    {
     "data": {
      "text/plain": "'Mean = 1.2e+02; CI = [58, 99]'"
     },
     "execution_count": 62,
     "metadata": {},
     "output_type": "execute_result"
    }
   ],
   "source": [
    "stable_percentis = np.percentile(mean_crp_stable, [5, 95])\n",
    "stable_mean = mean_crp_icu.mean()\n",
    "message.format(stable_mean, *stable_percentis)"
   ],
   "metadata": {
    "collapsed": false,
    "pycharm": {
     "name": "#%%\n"
    }
   }
  },
  {
   "cell_type": "code",
   "execution_count": null,
   "outputs": [],
   "source": [],
   "metadata": {
    "collapsed": false,
    "pycharm": {
     "name": "#%%\n"
    }
   }
  }
 ],
 "metadata": {
  "kernelspec": {
   "display_name": "Python 3",
   "language": "python",
   "name": "python3"
  },
  "language_info": {
   "codemirror_mode": {
    "name": "ipython",
    "version": 2
   },
   "file_extension": ".py",
   "mimetype": "text/x-python",
   "name": "python",
   "nbconvert_exporter": "python",
   "pygments_lexer": "ipython2",
   "version": "2.7.6"
  }
 },
 "nbformat": 4,
 "nbformat_minor": 0
}