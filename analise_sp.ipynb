{
 "cells": [
  {
   "cell_type": "code",
   "execution_count": 4,
   "metadata": {},
   "outputs": [],
   "source": [
    "import pandas as pd\n",
    "import numpy as np\n",
    "import scipy.stats as sct\n",
    "import seaborn as sns\n",
    "from matplotlib import pyplot as plt\n",
    "import os"
   ]
  },
  {
   "cell_type": "markdown",
   "metadata": {},
   "source": [
    "Clique [dataset_sp_limpo.csv ](https://drive.google.com/file/d/1dhhFIM1qZILh0LONo1msRgLuEAO3aThy/view?usp=sharing) no diretorio dataset"
   ]
  },
  {
   "cell_type": "code",
   "execution_count": 10,
   "metadata": {},
   "outputs": [],
   "source": [
    "df = pd.read_csv(os.path.join(\"dataset\", \"dataset_sp_limpo.csv\"), index_col=0)\n",
    "df = df[df.cs_sexo != \"INDEFINIDO\"]"
   ]
  },
  {
   "cell_type": "markdown",
   "metadata": {},
   "source": [
    "# Testes paramétricos"
   ]
  },
  {
   "cell_type": "markdown",
   "metadata": {},
   "source": [
    "## Teste para verificar se a frequência de gênero sexual entres os óbitos de COVID-19 no dataset é compatível com a frequência na população "
   ]
  },
  {
   "cell_type": "markdown",
   "metadata": {},
   "source": [
    "Óbito por gênero sexual: Mulheres - 45%, Homens - 55% | [Fonte](https://www.em.com.br/app/noticia/gerais/2020/09/09/interna_gerais,1183974/covid-19-atinge-principalmente-mulheres-mas-mata-mais-homens-ufmg.shtml)"
   ]
  },
  {
   "cell_type": "markdown",
   "metadata": {},
   "source": [
    "H0: frequências observadas = frequências esperadas.\n",
    "\n",
    "H1: as frequências observadas ≠ frequências esperadas.\n",
    "\n",
    "Alfa: 0.05"
   ]
  },
  {
   "cell_type": "code",
   "execution_count": 7,
   "metadata": {},
   "outputs": [
    {
     "data": {
      "text/plain": [
       "Power_divergenceResult(statistic=0.3007274015016478, pvalue=0.5834267643596402)"
      ]
     },
     "execution_count": 7,
     "metadata": {},
     "output_type": "execute_result"
    }
   ],
   "source": [
    "frequencia_observada = df[df.obito == 1].cs_sexo.value_counts(normalize=True) * 100\n",
    "frequencia_esperada = pd.Series({\"MASCULINO\": 55, \"FEMININO\": 45}) \n",
    "sct.chisquare(f_obs=frequencia_observada, f_exp=frequencia_esperada, axis=None)"
   ]
  },
  {
   "cell_type": "markdown",
   "metadata": {},
   "source": [
    "p-valor > alfa, portanto aceita-se H0"
   ]
  },
  {
   "cell_type": "markdown",
   "metadata": {},
   "source": [
    "## Teste para verificar se a idade média da pessoas que faleceram de COVID-19 é superior a idade média das pessoas que não faleceram"
   ]
  },
  {
   "cell_type": "code",
   "execution_count": null,
   "metadata": {},
   "outputs": [],
   "source": []
  },
  {
   "cell_type": "code",
   "execution_count": null,
   "metadata": {},
   "outputs": [],
   "source": []
  }
 ],
 "metadata": {
  "kernelspec": {
   "display_name": "Python 3",
   "language": "python",
   "name": "python3"
  },
  "language_info": {
   "codemirror_mode": {
    "name": "ipython",
    "version": 3
   },
   "file_extension": ".py",
   "mimetype": "text/x-python",
   "name": "python",
   "nbconvert_exporter": "python",
   "pygments_lexer": "ipython3",
   "version": "3.8.5"
  },
  "toc": {
   "base_numbering": 1,
   "nav_menu": {},
   "number_sections": true,
   "sideBar": true,
   "skip_h1_title": false,
   "title_cell": "Table of Contents",
   "title_sidebar": "Contents",
   "toc_cell": false,
   "toc_position": {},
   "toc_section_display": true,
   "toc_window_display": false
  }
 },
 "nbformat": 4,
 "nbformat_minor": 4
}
