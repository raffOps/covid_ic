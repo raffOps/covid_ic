{
 "cells": [
  {
   "cell_type": "code",
   "execution_count": 6,
   "metadata": {
    "ExecuteTime": {
     "end_time": "2020-10-23T17:32:40.116302Z",
     "start_time": "2020-10-23T17:32:40.108118Z"
    }
   },
   "outputs": [],
   "source": [
    "import pandas as pd\n",
    "import numpy as np\n",
    "from scipy import stats as sct\n",
    "import seaborn as sns\n",
    "from matplotlib import pyplot as plt\n",
    "import os"
   ]
  },
  {
   "cell_type": "code",
   "execution_count": 7,
   "metadata": {
    "ExecuteTime": {
     "end_time": "2020-10-23T17:32:42.366998Z",
     "start_time": "2020-10-23T17:32:40.360789Z"
    }
   },
   "outputs": [],
   "source": [
    "df = pd.read_csv(os.path.join(\"dataset\", \"dataset_sp_limpo.csv\"), index_col=0)\n",
    "df = df[df.cs_sexo != \"INDEFINIDO\"]"
   ]
  },
  {
   "cell_type": "markdown",
   "metadata": {},
   "source": [
    "## Test to verify if sexual gender influences COVID-19 mortality"
   ]
  },
  {
   "cell_type": "markdown",
   "metadata": {},
   "source": [
    "H0: male mortality = female mortality\n",
    "\n",
    "H1: male mortality ≠ female mortality\n",
    "\n",
    "Alpha: 0.05"
   ]
  },
  {
   "cell_type": "code",
   "execution_count": 8,
   "metadata": {
    "ExecuteTime": {
     "end_time": "2020-10-23T17:32:42.682129Z",
     "start_time": "2020-10-23T17:32:42.368583Z"
    }
   },
   "outputs": [],
   "source": [
    "observed_frequency_death = df[df.obito == 1].cs_sexo.value_counts().values\n",
    "observed_frequency_no_death = df[df.obito == 0].cs_sexo.value_counts().values"
   ]
  },
  {
   "cell_type": "code",
   "execution_count": 9,
   "metadata": {
    "ExecuteTime": {
     "end_time": "2020-10-23T17:32:42.716610Z",
     "start_time": "2020-10-23T17:32:42.691294Z"
    }
   },
   "outputs": [
    {
     "data": {
      "text/html": [
       "<div>\n",
       "<style scoped>\n",
       "    .dataframe tbody tr th:only-of-type {\n",
       "        vertical-align: middle;\n",
       "    }\n",
       "\n",
       "    .dataframe tbody tr th {\n",
       "        vertical-align: top;\n",
       "    }\n",
       "\n",
       "    .dataframe thead th {\n",
       "        text-align: right;\n",
       "    }\n",
       "</style>\n",
       "<table border=\"1\" class=\"dataframe\">\n",
       "  <thead>\n",
       "    <tr style=\"text-align: right;\">\n",
       "      <th></th>\n",
       "      <th>death</th>\n",
       "      <th>no death</th>\n",
       "    </tr>\n",
       "  </thead>\n",
       "  <tbody>\n",
       "    <tr>\n",
       "      <th>male</th>\n",
       "      <td>20669</td>\n",
       "      <td>508373</td>\n",
       "    </tr>\n",
       "    <tr>\n",
       "      <th>female</th>\n",
       "      <td>15135</td>\n",
       "      <td>441954</td>\n",
       "    </tr>\n",
       "  </tbody>\n",
       "</table>\n",
       "</div>"
      ],
      "text/plain": [
       "        death  no death\n",
       "male    20669    508373\n",
       "female  15135    441954"
      ]
     },
     "execution_count": 9,
     "metadata": {},
     "output_type": "execute_result"
    }
   ],
   "source": [
    "contingency_table = pd.DataFrame([observed_frequency_death, observed_frequency_no_death], \n",
    "                          index=[\"death\", \"no death\"], columns=[\"male\", \"female\"]).transpose()\n",
    "contingency_table"
   ]
  },
  {
   "cell_type": "code",
   "execution_count": 16,
   "metadata": {
    "ExecuteTime": {
     "end_time": "2020-10-23T17:35:25.080422Z",
     "start_time": "2020-10-23T17:35:25.073541Z"
    }
   },
   "outputs": [
    {
     "data": {
      "text/plain": [
       "(248.53149506065654,\n",
       " 5.427385865812765e-56,\n",
       " 1,\n",
       " array([[ 19208.21855108, 509833.78144892],\n",
       "        [ 16595.78144892, 440493.21855108]]))"
      ]
     },
     "execution_count": 16,
     "metadata": {},
     "output_type": "execute_result"
    }
   ],
   "source": [
    "sct.chi2_contingency(contingency_table)"
   ]
  },
  {
   "cell_type": "code",
   "execution_count": 85,
   "metadata": {},
   "outputs": [],
   "source": [
    "m, nm = df[df.cs_sexo == \"MASCULINO\"].obito.mean() * 100, (100-df[df.cs_sexo == \"MASCULINO\"].obito.mean() * 100)\n",
    "f, nf = df[df.cs_sexo == \"FEMININO\"].obito.mean() * 100, (100-df[df.cs_sexo == \"MASCULINO\"].obito.mean() * 100)"
   ]
  },
  {
   "cell_type": "code",
   "execution_count": 87,
   "metadata": {},
   "outputs": [
    {
     "data": {
      "text/plain": [
       "1.5453723664069623"
      ]
     },
     "execution_count": 87,
     "metadata": {},
     "output_type": "execute_result"
    }
   ],
   "source": [
    "(m/nm) / (f/nf)"
   ]
  },
  {
   "cell_type": "code",
   "execution_count": 80,
   "metadata": {},
   "outputs": [
    {
     "name": "stdout",
     "output_type": "stream",
     "text": [
      "H0 reject\n"
     ]
    }
   ],
   "source": [
    "stat, p_value, dof, expected = sct.chi2_contingency(contingency_table)\n",
    "if p_value > 0.05:\n",
    "    print(\"HO not reject\")\n",
    "else:\n",
    "    print(\"H0 reject\")"
   ]
  },
  {
   "cell_type": "code",
   "execution_count": 26,
   "metadata": {},
   "outputs": [
    {
     "name": "stdout",
     "output_type": "stream",
     "text": [
      "Male ratio death: 0.04467784783722383\n",
      "Female ratio death: 0.028910732978292594\n"
     ]
    }
   ],
   "source": [
    "print(\"Male ratio death: {}\".format(df[df.cs_sexo == \"MASCULINO\"].obito.mean()))\n",
    "print(\"Female ratio death: {}\".format(df[df.cs_sexo == \"FEMININO\"].obito.mean()))"
   ]
  },
  {
   "cell_type": "markdown",
   "metadata": {},
   "source": [
    "Based on the conclusions that:\n",
    "- The difference in mortality between men and women is significant\n",
    "- Male mortality is higher than female mortality\n",
    "\n",
    "We can come to another conclusion that men are more likely to die from COVID-19 than women in this dataset"
   ]
  },
  {
   "cell_type": "markdown",
   "metadata": {},
   "source": [
    "## Estimate ratio mortality in population using TCL"
   ]
  },
  {
   "cell_type": "code",
   "execution_count": 67,
   "metadata": {},
   "outputs": [],
   "source": [
    "male_mortality_list = []\n",
    "female_mortality_list = []\n",
    "for _ in range(10000):\n",
    "    sample = df.sample(2000)\n",
    "    male_mortality = sample[sample.cs_sexo == \"MASCULINO\"].obito.mean()\n",
    "    female_mortality = sample[sample.cs_sexo == \"FEMININO\"].obito.mean()\n",
    "    male_mortality_list.append(male_mortality)\n",
    "    female_mortality_list.append(female_mortality)\n"
   ]
  },
  {
   "cell_type": "code",
   "execution_count": 68,
   "metadata": {},
   "outputs": [
    {
     "data": {
      "image/png": "[encoded data removed]",
      "text/plain": [
       "<Figure size 432x288 with 1 Axes>"
      ]
     },
     "metadata": {
      "needs_background": "light"
     },
     "output_type": "display_data"
    }
   ],
   "source": [
    "sns.histplot(male_mortality_list, color=\"r\")\n",
    "sns.histplot(female_mortality_list, color=\"b\")\n",
    "plt.xlabel(\"Ratio mortality\");"
   ]
  },
  {
   "cell_type": "code",
   "execution_count": 74,
   "metadata": {},
   "outputs": [
    {
     "data": {
      "text/plain": [
       "0.04471725607216711"
      ]
     },
     "execution_count": 74,
     "metadata": {},
     "output_type": "execute_result"
    }
   ],
   "source": [
    "np.mean(male_mortality_list)"
   ]
  },
  {
   "cell_type": "code",
   "execution_count": 72,
   "metadata": {},
   "outputs": [
    {
     "data": {
      "text/plain": [
       "0.006707812378555036"
      ]
     },
     "execution_count": 72,
     "metadata": {},
     "output_type": "execute_result"
    }
   ],
   "source": [
    "np.std(male_mortality_list)"
   ]
  },
  {
   "cell_type": "code",
   "execution_count": 62,
   "metadata": {},
   "outputs": [
    {
     "name": "stdout",
     "output_type": "stream",
     "text": [
      "Sample does not look Gaussian (reject H0)\n"
     ]
    }
   ],
   "source": [
    "stat, p = sct.shapiro(male_mortality_list)\n",
    "alpha = 0.05\n",
    "if p > alpha:\n",
    "    print('Sample looks Gaussian (fail to reject H0)')\n",
    "else:\n",
    "    print('Sample does not look Gaussian (reject H0)')"
   ]
  },
  {
   "cell_type": "code",
   "execution_count": 61,
   "metadata": {},
   "outputs": [
    {
     "name": "stdout",
     "output_type": "stream",
     "text": [
      "Sample does not look Gaussian (reject H0)\n"
     ]
    }
   ],
   "source": [
    "stat, p = sct.shapiro(female_mortality_list)\n",
    "alpha = 0.05\n",
    "if p > alpha:\n",
    "    print('Sample looks Gaussian (fail to reject H0)')\n",
    "else:\n",
    "    print('Sample does not look Gaussian (reject H0)')"
   ]
  },
  {
   "cell_type": "code",
   "execution_count": 69,
   "metadata": {},
   "outputs": [
    {
     "data": {
      "text/plain": [
       "<seaborn.axisgrid.FacetGrid at 0x7f6b1c6f0ee0>"
      ]
     },
     "execution_count": 69,
     "metadata": {},
     "output_type": "execute_result"
    },
    {
     "data": {
      "image/png": "[encoded data removed]",
      "text/plain": [
       "<Figure size 360x360 with 1 Axes>"
      ]
     },
     "metadata": {
      "needs_background": "light"
     },
     "output_type": "display_data"
    }
   ],
   "source": [
    "sns.displot(np.array(male_mortality_list) - np.array(female_mortality_list))"
   ]
  },
  {
   "cell_type": "code",
   "execution_count": null,
   "metadata": {},
   "outputs": [],
   "source": []
  }
 ],
 "metadata": {
  "kernelspec": {
   "display_name": "Python 3",
   "language": "python",
   "name": "python3"
  },
  "language_info": {
   "codemirror_mode": {
    "name": "ipython",
    "version": 3
   },
   "file_extension": ".py",
   "mimetype": "text/x-python",
   "name": "python",
   "nbconvert_exporter": "python",
   "pygments_lexer": "ipython3",
   "version": "3.8.5"
  },
  "toc": {
   "base_numbering": 1,
   "nav_menu": {},
   "number_sections": true,
   "sideBar": true,
   "skip_h1_title": false,
   "title_cell": "Table of Contents",
   "title_sidebar": "Contents",
   "toc_cell": false,
   "toc_position": {},
   "toc_section_display": true,
   "toc_window_display": false
  }
 },
 "nbformat": 4,
 "nbformat_minor": 4
}
